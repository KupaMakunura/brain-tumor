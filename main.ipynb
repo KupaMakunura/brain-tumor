{
 "cells": [
  {
   "cell_type": "code",
   "execution_count": 25,
   "id": "initial_id",
   "metadata": {
    "ExecuteTime": {
     "end_time": "2024-10-22T14:06:09.672010Z",
     "start_time": "2024-10-22T14:06:09.666745Z"
    },
    "collapsed": true
   },
   "outputs": [],
   "source": [
    "import cv2\n",
    "import os\n",
    "from PIL import Image\n",
    "import numpy as np\n",
    "from sklearn.model_selection import train_test_split\n",
    "import tensorflow as tf\n",
    "from keras.utils import normalize\n",
    "from keras.models import Sequential\n",
    "from keras.layers import MaxPooling2D, Conv2D, Dropout, Activation, Flatten, Dense\n",
    "from keras.utils import to_categorical\n",
    "\n",
    "\n"
   ]
  },
  {
   "cell_type": "code",
   "execution_count": 26,
   "id": "eb486bcb9be94535",
   "metadata": {
    "ExecuteTime": {
     "end_time": "2024-10-22T14:06:05.249524Z",
     "start_time": "2024-10-22T14:06:05.244885Z"
    }
   },
   "outputs": [],
   "source": [
    "\n",
    "# image directory\n",
    "image_dir = 'datasets/'\n",
    "\n",
    "# no tumor list\n",
    "\n",
    "dataset = []\n",
    "labels = []\n",
    "INPUT_SIZE = 64"
   ]
  },
  {
   "cell_type": "code",
   "execution_count": 27,
   "id": "7646a729f409a1da",
   "metadata": {
    "ExecuteTime": {
     "end_time": "2024-10-22T14:06:17.319238Z",
     "start_time": "2024-10-22T14:06:12.609381Z"
    }
   },
   "outputs": [],
   "source": [
    "# no tumor image list\n",
    "no_tumor = os.listdir(image_dir + 'no/')\n",
    "for i, image_name in enumerate(no_tumor):\n",
    "    if image_name.split('.')[1] == 'jpg':\n",
    "        # read the images using open cv\n",
    "        image = cv2.imread(image_dir + 'no/' + image_name)\n",
    "\n",
    "        # convert it to rgb using pillow\n",
    "        image = Image.fromarray(image, 'RGB')\n",
    "\n",
    "        # resize the image\n",
    "        image = image.resize((INPUT_SIZE, INPUT_SIZE))\n",
    "        # set the datasets as numpy arrays\n",
    "\n",
    "        dataset.append(np.array(image))\n",
    "\n",
    "        labels.append(0)"
   ]
  },
  {
   "cell_type": "code",
   "execution_count": 28,
   "id": "43a4a2ed3f63e557",
   "metadata": {
    "ExecuteTime": {
     "end_time": "2024-10-22T14:06:26.341674Z",
     "start_time": "2024-10-22T14:06:19.488970Z"
    }
   },
   "outputs": [],
   "source": [
    "\n",
    "# yes tumor list\n",
    "yes_tumor = os.listdir(image_dir + 'yes/')\n",
    "\n",
    "for i, image_name in enumerate(yes_tumor):\n",
    "    if image_name.split('.')[1] == 'jpg':\n",
    "        # read the images using open cv\n",
    "        image = cv2.imread(image_dir + 'yes/' + image_name)\n",
    "\n",
    "        # convert it to rgb using pillow\n",
    "        image = Image.fromarray(image, 'RGB')\n",
    "\n",
    "        # resize the image\n",
    "        image = image.resize((INPUT_SIZE, INPUT_SIZE))\n",
    "        # set the datasets as numpy arrays\n",
    "\n",
    "        dataset.append(np.array(image))\n",
    "\n",
    "        labels.append(1)"
   ]
  },
  {
   "cell_type": "code",
   "execution_count": 29,
   "id": "bf75705d05b58c26",
   "metadata": {
    "ExecuteTime": {
     "end_time": "2024-10-22T14:06:28.376114Z",
     "start_time": "2024-10-22T14:06:28.354360Z"
    }
   },
   "outputs": [],
   "source": [
    "\n",
    "# convert the datasets and labels into a numpy array\n",
    "\n",
    "dataset = np.array(dataset)\n",
    "labels = np.array(labels)\n"
   ]
  },
  {
   "cell_type": "code",
   "execution_count": 30,
   "id": "128668e6905fcbba",
   "metadata": {
    "ExecuteTime": {
     "end_time": "2024-10-22T14:06:31.476342Z",
     "start_time": "2024-10-22T14:06:31.455958Z"
    }
   },
   "outputs": [
    {
     "name": "stdout",
     "output_type": "stream",
     "text": [
      "(2400, 64, 64, 3)\n",
      "(2400,)\n",
      "(600, 64, 64, 3)\n",
      "(600,)\n"
     ]
    }
   ],
   "source": [
    "\n",
    "# 20% data for testing\n",
    "x_train, x_test, y_train, y_test = train_test_split(dataset, labels, test_size=0.2)\n",
    "\n",
    "# reshape (no_of_images, image_width,image_height,no_of_channels)\n",
    "\n",
    "print(x_train.shape)\n",
    "print(y_train.shape)\n",
    "print(x_test.shape)\n",
    "print(y_test.shape)"
   ]
  },
  {
   "cell_type": "code",
   "execution_count": 31,
   "id": "36c4ffc700241fa",
   "metadata": {
    "ExecuteTime": {
     "end_time": "2024-10-22T14:05:12.329356Z",
     "start_time": "2024-10-22T14:05:10.992271Z"
    }
   },
   "outputs": [],
   "source": [
    "x_train = normalize(x_train, axis=1)\n",
    "x_test = normalize(x_test, axis=1)\n",
    "y_train = to_categorical(y_train,num_classes=2)\n",
    "y_test = to_categorical(y_test,num_classes=2)\n"
   ]
  },
  {
   "cell_type": "code",
   "execution_count": 32,
   "id": "f19bfe62ae252c70",
   "metadata": {
    "ExecuteTime": {
     "end_time": "2024-10-22T14:06:35.480878Z",
     "start_time": "2024-10-22T14:06:35.438838Z"
    }
   },
   "outputs": [
    {
     "name": "stderr",
     "output_type": "stream",
     "text": [
      "/home/devx/miniconda3/envs/brain-tumor/lib/python3.12/site-packages/keras/src/layers/convolutional/base_conv.py:107: UserWarning: Do not pass an `input_shape`/`input_dim` argument to a layer. When using Sequential models, prefer using an `Input(shape)` object as the first layer in the model instead.\n",
      "  super().__init__(activity_regularizer=activity_regularizer, **kwargs)\n"
     ]
    }
   ],
   "source": [
    "# build a model\n",
    "model = Sequential()\n",
    "model.add(Conv2D(32, kernel_size=(3, 3), activation='relu', input_shape=(INPUT_SIZE, INPUT_SIZE, 3)))\n",
    "model.add(Activation('relu'))\n",
    "model.add(MaxPooling2D(pool_size=(2, 2)))\n"
   ]
  },
  {
   "cell_type": "code",
   "execution_count": 33,
   "id": "649ab969781acd3f",
   "metadata": {
    "ExecuteTime": {
     "end_time": "2024-10-22T14:06:38.811135Z",
     "start_time": "2024-10-22T14:06:38.799928Z"
    }
   },
   "outputs": [],
   "source": [
    "model = Sequential()\n",
    "model.add(Conv2D(32, kernel_size=(3, 3), activation='relu', kernel_initializer='he_uniform'))\n",
    "model.add(Activation('relu'))\n",
    "model.add(MaxPooling2D(pool_size=(2, 2)))\n"
   ]
  },
  {
   "cell_type": "code",
   "execution_count": 34,
   "id": "f8509aaeca5aca0e",
   "metadata": {
    "ExecuteTime": {
     "end_time": "2024-10-22T14:06:41.242117Z",
     "start_time": "2024-10-22T14:06:41.232052Z"
    }
   },
   "outputs": [],
   "source": [
    "model = Sequential()\n",
    "model.add(Conv2D(64, kernel_size=(3, 3), activation='relu', kernel_initializer='he_uniform'))\n",
    "model.add(Activation('relu'))\n",
    "model.add(MaxPooling2D(pool_size=(2, 2)))\n"
   ]
  },
  {
   "cell_type": "code",
   "execution_count": 35,
   "id": "e04e5fdecc11f39",
   "metadata": {
    "ExecuteTime": {
     "end_time": "2024-10-22T14:06:46.770890Z",
     "start_time": "2024-10-22T14:06:46.757380Z"
    }
   },
   "outputs": [],
   "source": [
    "model.add(Flatten())\n",
    "model.add(Dense(64))\n",
    "model.add(Activation('relu'))\n",
    "model.add(Dropout(0.5))\n",
    "model.add(Dense(2))\n",
    "model.add(Activation('softmax'))\n"
   ]
  },
  {
   "cell_type": "code",
   "execution_count": 36,
   "id": "b6f803ec309007ad",
   "metadata": {
    "ExecuteTime": {
     "end_time": "2024-10-22T14:24:24.101818Z",
     "start_time": "2024-10-22T14:24:24.068002Z"
    }
   },
   "outputs": [],
   "source": [
    "model.compile(loss='categorical_crossentropy', optimizer='adam', metrics=['accuracy'])"
   ]
  },
  {
   "cell_type": "code",
   "execution_count": 38,
   "id": "4f34e56a9505d778",
   "metadata": {
    "ExecuteTime": {
     "end_time": "2024-10-22T14:34:22.021229Z",
     "start_time": "2024-10-22T14:34:21.935566Z"
    }
   },
   "outputs": [
    {
     "name": "stdout",
     "output_type": "stream",
     "text": [
      "Epoch 1/10\n",
      "\u001b[1m 43/150\u001b[0m \u001b[32m━━━━━\u001b[0m\u001b[37m━━━━━━━━━━━━━━━\u001b[0m \u001b[1m2s\u001b[0m 19ms/step - accuracy: 0.9842 - loss: 0.0415"
     ]
    },
    {
     "name": "stdout",
     "output_type": "stream",
     "text": [
      "\u001b[1m150/150\u001b[0m \u001b[32m━━━━━━━━━━━━━━━━━━━━\u001b[0m\u001b[37m\u001b[0m \u001b[1m3s\u001b[0m 21ms/step - accuracy: 0.9811 - loss: 0.0568 - val_accuracy: 0.9783 - val_loss: 0.0715\n",
      "Epoch 2/10\n",
      "\u001b[1m150/150\u001b[0m \u001b[32m━━━━━━━━━━━━━━━━━━━━\u001b[0m\u001b[37m\u001b[0m \u001b[1m3s\u001b[0m 20ms/step - accuracy: 0.9860 - loss: 0.0425 - val_accuracy: 0.9800 - val_loss: 0.0545\n",
      "Epoch 3/10\n",
      "\u001b[1m150/150\u001b[0m \u001b[32m━━━━━━━━━━━━━━━━━━━━\u001b[0m\u001b[37m\u001b[0m \u001b[1m3s\u001b[0m 20ms/step - accuracy: 0.9760 - loss: 0.0514 - val_accuracy: 0.9800 - val_loss: 0.0545\n",
      "Epoch 4/10\n",
      "\u001b[1m150/150\u001b[0m \u001b[32m━━━━━━━━━━━━━━━━━━━━\u001b[0m\u001b[37m\u001b[0m \u001b[1m3s\u001b[0m 20ms/step - accuracy: 0.9865 - loss: 0.0407 - val_accuracy: 0.9833 - val_loss: 0.0542\n",
      "Epoch 5/10\n",
      "\u001b[1m150/150\u001b[0m \u001b[32m━━━━━━━━━━━━━━━━━━━━\u001b[0m\u001b[37m\u001b[0m \u001b[1m3s\u001b[0m 20ms/step - accuracy: 0.9812 - loss: 0.0430 - val_accuracy: 0.9783 - val_loss: 0.0671\n",
      "Epoch 6/10\n",
      "\u001b[1m150/150\u001b[0m \u001b[32m━━━━━━━━━━━━━━━━━━━━\u001b[0m\u001b[37m\u001b[0m \u001b[1m3s\u001b[0m 20ms/step - accuracy: 0.9889 - loss: 0.0314 - val_accuracy: 0.9817 - val_loss: 0.0453\n",
      "Epoch 7/10\n",
      "\u001b[1m150/150\u001b[0m \u001b[32m━━━━━━━━━━━━━━━━━━━━\u001b[0m\u001b[37m\u001b[0m \u001b[1m3s\u001b[0m 20ms/step - accuracy: 0.9818 - loss: 0.0414 - val_accuracy: 0.9783 - val_loss: 0.0696\n",
      "Epoch 8/10\n",
      "\u001b[1m150/150\u001b[0m \u001b[32m━━━━━━━━━━━━━━━━━━━━\u001b[0m\u001b[37m\u001b[0m \u001b[1m3s\u001b[0m 20ms/step - accuracy: 0.9880 - loss: 0.0355 - val_accuracy: 0.9817 - val_loss: 0.0609\n",
      "Epoch 9/10\n",
      "\u001b[1m150/150\u001b[0m \u001b[32m━━━━━━━━━━━━━━━━━━━━\u001b[0m\u001b[37m\u001b[0m \u001b[1m3s\u001b[0m 22ms/step - accuracy: 0.9840 - loss: 0.0380 - val_accuracy: 0.9833 - val_loss: 0.0600\n",
      "Epoch 10/10\n",
      "\u001b[1m150/150\u001b[0m \u001b[32m━━━━━━━━━━━━━━━━━━━━\u001b[0m\u001b[37m\u001b[0m \u001b[1m5s\u001b[0m 20ms/step - accuracy: 0.9801 - loss: 0.0532 - val_accuracy: 0.9817 - val_loss: 0.0714\n"
     ]
    },
    {
     "name": "stderr",
     "output_type": "stream",
     "text": [
      "WARNING:absl:You are saving your model as an HDF5 file via `model.save()` or `keras.saving.save_model(model)`. This file format is considered legacy. We recommend using instead the native Keras format, e.g. `model.save('my_model.keras')` or `keras.saving.save_model(model, 'my_model.keras')`. \n"
     ]
    }
   ],
   "source": [
    "model.fit(x_train, y_train, epochs=10, batch_size=16, verbose=1, validation_data=(x_test, y_test), shuffle=False)\n",
    "model.save('braintumordetector10ECategorical.h5')"
   ]
  },
  {
   "cell_type": "code",
   "execution_count": null,
   "id": "6a94a31bdca9308e",
   "metadata": {},
   "outputs": [],
   "source": []
  }
 ],
 "metadata": {
  "kernelspec": {
   "display_name": "brain-tumor",
   "language": "python",
   "name": "python3"
  },
  "language_info": {
   "codemirror_mode": {
    "name": "ipython",
    "version": 3
   },
   "file_extension": ".py",
   "mimetype": "text/x-python",
   "name": "python",
   "nbconvert_exporter": "python",
   "pygments_lexer": "ipython3",
   "version": "3.12.7"
  }
 },
 "nbformat": 4,
 "nbformat_minor": 5
}
