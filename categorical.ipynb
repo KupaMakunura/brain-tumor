{
 "cells": [
  {
   "metadata": {},
   "cell_type": "code",
   "outputs": [],
   "execution_count": null,
   "source": "",
   "id": "5f61d3e823817a64"
  },
  {
   "metadata": {},
   "cell_type": "code",
   "outputs": [],
   "execution_count": null,
   "source": [
    "import cv2\n",
    "import os\n",
    "from PIL import Image\n",
    "import numpy as np\n",
    "from sklearn.model_selection import train_test_split\n",
    "import tensorflow as tf\n",
    "from keras.utils import normalize\n",
    "from keras.models import Sequential\n",
    "from keras.layers import MaxPooling2D, Conv2D, Dropout, Activation, Flatten, Dense\n",
    "from keras.utils import to_categorical\n",
    "\n",
    "\n"
   ],
   "id": "866b63392848c955"
  },
  {
   "cell_type": "code",
   "id": "eb486bcb9be94535",
   "metadata": {
    "ExecuteTime": {
     "end_time": "2024-10-28T05:14:42.274141Z",
     "start_time": "2024-10-28T05:14:42.265577Z"
    }
   },
   "source": [
    "\n",
    "# image directory\n",
    "image_dir = 'datasets/'\n",
    "\n",
    "# no tumor list\n",
    "\n",
    "dataset = []\n",
    "labels = []\n",
    "INPUT_SIZE = 64"
   ],
   "outputs": [],
   "execution_count": 2
  },
  {
   "cell_type": "code",
   "id": "7646a729f409a1da",
   "metadata": {
    "ExecuteTime": {
     "end_time": "2024-10-28T05:15:40.848698Z",
     "start_time": "2024-10-28T05:15:37.797788Z"
    }
   },
   "source": [
    "# no tumor image list\n",
    "no_tumor = os.listdir(image_dir + 'no/')\n",
    "for i, image_name in enumerate(no_tumor):\n",
    "    if image_name.split('.')[1] == 'jpg':\n",
    "        # read the images using open cv\n",
    "        image = cv2.imread(image_dir + 'no/' + image_name)\n",
    "\n",
    "        # convert it to rgb using pillow\n",
    "        image = Image.fromarray(image, 'RGB')\n",
    "\n",
    "        # resize the image\n",
    "        image = image.resize((INPUT_SIZE, INPUT_SIZE))\n",
    "        # set the datasets as numpy arrays\n",
    "\n",
    "        dataset.append(np.array(image))\n",
    "\n",
    "        labels.append(0)"
   ],
   "outputs": [],
   "execution_count": 4
  },
  {
   "cell_type": "code",
   "id": "43a4a2ed3f63e557",
   "metadata": {
    "ExecuteTime": {
     "end_time": "2024-10-28T05:15:48.786229Z",
     "start_time": "2024-10-28T05:15:43.900079Z"
    }
   },
   "source": [
    "\n",
    "# yes tumor list\n",
    "yes_tumor = os.listdir(image_dir + 'yes/')\n",
    "\n",
    "for i, image_name in enumerate(yes_tumor):\n",
    "    if image_name.split('.')[1] == 'jpg':\n",
    "        # read the images using open cv\n",
    "        image = cv2.imread(image_dir + 'yes/' + image_name)\n",
    "\n",
    "        # convert it to rgb using pillow\n",
    "        image = Image.fromarray(image, 'RGB')\n",
    "\n",
    "        # resize the image\n",
    "        image = image.resize((INPUT_SIZE, INPUT_SIZE))\n",
    "        # set the datasets as numpy arrays\n",
    "\n",
    "        dataset.append(np.array(image))\n",
    "\n",
    "        labels.append(1)"
   ],
   "outputs": [],
   "execution_count": 5
  },
  {
   "cell_type": "code",
   "id": "bf75705d05b58c26",
   "metadata": {
    "ExecuteTime": {
     "end_time": "2024-10-28T05:15:49.938447Z",
     "start_time": "2024-10-28T05:15:49.911276Z"
    }
   },
   "source": [
    "\n",
    "# convert the datasets and labels into a numpy array\n",
    "\n",
    "dataset = np.array(dataset)\n",
    "labels = np.array(labels)\n"
   ],
   "outputs": [],
   "execution_count": 6
  },
  {
   "cell_type": "code",
   "id": "128668e6905fcbba",
   "metadata": {
    "ExecuteTime": {
     "end_time": "2024-10-28T05:15:53.594726Z",
     "start_time": "2024-10-28T05:15:53.575168Z"
    }
   },
   "source": [
    "\n",
    "# 20% data for testing\n",
    "x_train, x_test, y_train, y_test = train_test_split(dataset, labels, test_size=0.2)\n",
    "\n",
    "# reshape (no_of_images, image_width,image_height,no_of_channels)\n",
    "\n",
    "print(x_train.shape)\n",
    "print(y_train.shape)\n",
    "print(x_test.shape)\n",
    "print(y_test.shape)"
   ],
   "outputs": [
    {
     "name": "stdout",
     "output_type": "stream",
     "text": [
      "(2400, 64, 64, 3)\n",
      "(2400,)\n",
      "(600, 64, 64, 3)\n",
      "(600,)\n"
     ]
    }
   ],
   "execution_count": 7
  },
  {
   "cell_type": "code",
   "id": "36c4ffc700241fa",
   "metadata": {
    "ExecuteTime": {
     "end_time": "2024-10-28T05:16:03.105413Z",
     "start_time": "2024-10-28T05:16:01.988407Z"
    }
   },
   "source": [
    "x_train = normalize(x_train, axis=1)\n",
    "x_test = normalize(x_test, axis=1)\n",
    "y_train = to_categorical(y_train,num_classes=2)\n",
    "y_test = to_categorical(y_test,num_classes=2)\n"
   ],
   "outputs": [],
   "execution_count": 8
  },
  {
   "cell_type": "code",
   "id": "f19bfe62ae252c70",
   "metadata": {
    "ExecuteTime": {
     "end_time": "2024-10-28T05:16:07.827100Z",
     "start_time": "2024-10-28T05:16:07.744106Z"
    }
   },
   "source": [
    "# build a model\n",
    "model = Sequential()\n",
    "model.add(Conv2D(32, kernel_size=(3, 3), activation='relu', input_shape=(INPUT_SIZE, INPUT_SIZE, 3)))\n",
    "model.add(Activation('relu'))\n",
    "model.add(MaxPooling2D(pool_size=(2, 2)))\n"
   ],
   "outputs": [
    {
     "name": "stderr",
     "output_type": "stream",
     "text": [
      "/home/kupamakunura/miniconda3/envs/brain-tumor/lib/python3.12/site-packages/keras/src/layers/convolutional/base_conv.py:107: UserWarning: Do not pass an `input_shape`/`input_dim` argument to a layer. When using Sequential models, prefer using an `Input(shape)` object as the first layer in the model instead.\n",
      "  super().__init__(activity_regularizer=activity_regularizer, **kwargs)\n"
     ]
    }
   ],
   "execution_count": 9
  },
  {
   "cell_type": "code",
   "id": "649ab969781acd3f",
   "metadata": {
    "ExecuteTime": {
     "end_time": "2024-10-28T05:16:10.973652Z",
     "start_time": "2024-10-28T05:16:10.939464Z"
    }
   },
   "source": [
    "model = Sequential()\n",
    "model.add(Conv2D(32, kernel_size=(3, 3), activation='relu', kernel_initializer='he_uniform'))\n",
    "model.add(Activation('relu'))\n",
    "model.add(MaxPooling2D(pool_size=(2, 2)))\n"
   ],
   "outputs": [],
   "execution_count": 10
  },
  {
   "cell_type": "code",
   "id": "f8509aaeca5aca0e",
   "metadata": {
    "ExecuteTime": {
     "end_time": "2024-10-28T05:16:13.326042Z",
     "start_time": "2024-10-28T05:16:13.313376Z"
    }
   },
   "source": [
    "model = Sequential()\n",
    "model.add(Conv2D(64, kernel_size=(3, 3), activation='relu', kernel_initializer='he_uniform'))\n",
    "model.add(Activation('relu'))\n",
    "model.add(MaxPooling2D(pool_size=(2, 2)))\n"
   ],
   "outputs": [],
   "execution_count": 11
  },
  {
   "cell_type": "code",
   "id": "e04e5fdecc11f39",
   "metadata": {
    "ExecuteTime": {
     "end_time": "2024-10-28T05:16:15.751517Z",
     "start_time": "2024-10-28T05:16:15.723467Z"
    }
   },
   "source": [
    "model.add(Flatten())\n",
    "model.add(Dense(64))\n",
    "model.add(Activation('relu'))\n",
    "model.add(Dropout(0.5))\n",
    "model.add(Dense(2))\n",
    "model.add(Activation('softmax'))\n"
   ],
   "outputs": [],
   "execution_count": 12
  },
  {
   "cell_type": "code",
   "id": "b6f803ec309007ad",
   "metadata": {
    "ExecuteTime": {
     "end_time": "2024-10-28T05:16:21.601944Z",
     "start_time": "2024-10-28T05:16:21.581897Z"
    }
   },
   "source": [
    "model.compile(loss='categorical_crossentropy', optimizer='adam', metrics=['accuracy'])"
   ],
   "outputs": [],
   "execution_count": 13
  },
  {
   "cell_type": "code",
   "id": "4f34e56a9505d778",
   "metadata": {
    "ExecuteTime": {
     "end_time": "2024-10-28T05:41:49.057587Z",
     "start_time": "2024-10-28T05:37:09.631854Z"
    }
   },
   "source": [
    "model.fit(x_train, y_train, epochs=10, batch_size=16, verbose=1, validation_data=(x_test, y_test), shuffle=False)\n",
    "model.save('categorical-model.h5')"
   ],
   "outputs": [
    {
     "name": "stdout",
     "output_type": "stream",
     "text": [
      "Epoch 1/10\n"
     ]
    },
    {
     "name": "stderr",
     "output_type": "stream",
     "text": [
      "2024-10-28 07:37:10.086518: W external/local_tsl/tsl/framework/cpu_allocator_impl.cc:83] Allocation of 117964800 exceeds 10% of free system memory.\n"
     ]
    },
    {
     "name": "stdout",
     "output_type": "stream",
     "text": [
      "\u001B[1m150/150\u001B[0m \u001B[32m━━━━━━━━━━━━━━━━━━━━\u001B[0m\u001B[37m\u001B[0m \u001B[1m20s\u001B[0m 134ms/step - accuracy: 0.9504 - loss: 0.1048 - val_accuracy: 0.9800 - val_loss: 0.0509\n",
      "Epoch 2/10\n",
      "\u001B[1m150/150\u001B[0m \u001B[32m━━━━━━━━━━━━━━━━━━━━\u001B[0m\u001B[37m\u001B[0m \u001B[1m24s\u001B[0m 157ms/step - accuracy: 0.9518 - loss: 0.0981 - val_accuracy: 0.9783 - val_loss: 0.0454\n",
      "Epoch 3/10\n",
      "\u001B[1m150/150\u001B[0m \u001B[32m━━━━━━━━━━━━━━━━━━━━\u001B[0m\u001B[37m\u001B[0m \u001B[1m30s\u001B[0m 202ms/step - accuracy: 0.9557 - loss: 0.1050 - val_accuracy: 0.9850 - val_loss: 0.0354\n",
      "Epoch 4/10\n",
      "\u001B[1m150/150\u001B[0m \u001B[32m━━━━━━━━━━━━━━━━━━━━\u001B[0m\u001B[37m\u001B[0m \u001B[1m21s\u001B[0m 142ms/step - accuracy: 0.9521 - loss: 0.0898 - val_accuracy: 0.9800 - val_loss: 0.0368\n",
      "Epoch 5/10\n",
      "\u001B[1m150/150\u001B[0m \u001B[32m━━━━━━━━━━━━━━━━━━━━\u001B[0m\u001B[37m\u001B[0m \u001B[1m41s\u001B[0m 141ms/step - accuracy: 0.9596 - loss: 0.0839 - val_accuracy: 0.9750 - val_loss: 0.0387\n",
      "Epoch 6/10\n",
      "\u001B[1m150/150\u001B[0m \u001B[32m━━━━━━━━━━━━━━━━━━━━\u001B[0m\u001B[37m\u001B[0m \u001B[1m41s\u001B[0m 141ms/step - accuracy: 0.9610 - loss: 0.0692 - val_accuracy: 0.9850 - val_loss: 0.0424\n",
      "Epoch 7/10\n",
      "\u001B[1m150/150\u001B[0m \u001B[32m━━━━━━━━━━━━━━━━━━━━\u001B[0m\u001B[37m\u001B[0m \u001B[1m25s\u001B[0m 165ms/step - accuracy: 0.9560 - loss: 0.0815 - val_accuracy: 0.9867 - val_loss: 0.0421\n",
      "Epoch 8/10\n",
      "\u001B[1m150/150\u001B[0m \u001B[32m━━━━━━━━━━━━━━━━━━━━\u001B[0m\u001B[37m\u001B[0m \u001B[1m30s\u001B[0m 89ms/step - accuracy: 0.9590 - loss: 0.0771 - val_accuracy: 0.9800 - val_loss: 0.0439\n",
      "Epoch 9/10\n",
      "\u001B[1m150/150\u001B[0m \u001B[32m━━━━━━━━━━━━━━━━━━━━\u001B[0m\u001B[37m\u001B[0m \u001B[1m26s\u001B[0m 175ms/step - accuracy: 0.9610 - loss: 0.0773 - val_accuracy: 0.9867 - val_loss: 0.0338\n",
      "Epoch 10/10\n",
      "\u001B[1m150/150\u001B[0m \u001B[32m━━━━━━━━━━━━━━━━━━━━\u001B[0m\u001B[37m\u001B[0m \u001B[1m17s\u001B[0m 110ms/step - accuracy: 0.9635 - loss: 0.0658 - val_accuracy: 0.9833 - val_loss: 0.0438\n"
     ]
    },
    {
     "name": "stderr",
     "output_type": "stream",
     "text": [
      "WARNING:absl:You are saving your model as an HDF5 file via `model.save()` or `keras.saving.save_model(model)`. This file format is considered legacy. We recommend using instead the native Keras format, e.g. `model.save('my_model.keras')` or `keras.saving.save_model(model, 'my_model.keras')`. \n"
     ]
    }
   ],
   "execution_count": 15
  },
  {
   "cell_type": "code",
   "execution_count": null,
   "id": "6a94a31bdca9308e",
   "metadata": {},
   "outputs": [],
   "source": []
  }
 ],
 "metadata": {
  "kernelspec": {
   "display_name": "brain-tumor",
   "language": "python",
   "name": "python3"
  },
  "language_info": {
   "codemirror_mode": {
    "name": "ipython",
    "version": 3
   },
   "file_extension": ".py",
   "mimetype": "text/x-python",
   "name": "python",
   "nbconvert_exporter": "python",
   "pygments_lexer": "ipython3",
   "version": "3.12.7"
  }
 },
 "nbformat": 4,
 "nbformat_minor": 5
}
