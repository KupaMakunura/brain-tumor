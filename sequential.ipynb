{
 "cells": [
  {
   "cell_type": "code",
   "id": "initial_id",
   "metadata": {
    "collapsed": true,
    "ExecuteTime": {
     "end_time": "2024-10-28T05:33:18.687858Z",
     "start_time": "2024-10-28T05:33:14.647044Z"
    }
   },
   "source": [
    "import cv2\n",
    "import os\n",
    "from PIL import Image\n",
    "import numpy as np\n",
    "from sklearn.model_selection import train_test_split\n",
    "import tensorflow as tf\n",
    "from keras.utils import normalize\n",
    "from keras.models import Sequential\n",
    "from keras.layers import MaxPooling2D, Conv2D, Dropout, Activation, Flatten, Dense\n",
    "from keras.utils import to_categorical\n",
    "\n",
    "\n"
   ],
   "outputs": [
    {
     "name": "stderr",
     "output_type": "stream",
     "text": [
      "2024-10-28 07:33:16.245314: I external/local_xla/xla/tsl/cuda/cudart_stub.cc:32] Could not find cuda drivers on your machine, GPU will not be used.\n",
      "2024-10-28 07:33:16.250226: I external/local_xla/xla/tsl/cuda/cudart_stub.cc:32] Could not find cuda drivers on your machine, GPU will not be used.\n",
      "2024-10-28 07:33:16.265812: E external/local_xla/xla/stream_executor/cuda/cuda_fft.cc:485] Unable to register cuFFT factory: Attempting to register factory for plugin cuFFT when one has already been registered\n",
      "2024-10-28 07:33:16.290148: E external/local_xla/xla/stream_executor/cuda/cuda_dnn.cc:8454] Unable to register cuDNN factory: Attempting to register factory for plugin cuDNN when one has already been registered\n",
      "2024-10-28 07:33:16.297152: E external/local_xla/xla/stream_executor/cuda/cuda_blas.cc:1452] Unable to register cuBLAS factory: Attempting to register factory for plugin cuBLAS when one has already been registered\n",
      "2024-10-28 07:33:16.317185: I tensorflow/core/platform/cpu_feature_guard.cc:210] This TensorFlow binary is optimized to use available CPU instructions in performance-critical operations.\n",
      "To enable the following instructions: AVX2 FMA, in other operations, rebuild TensorFlow with the appropriate compiler flags.\n",
      "2024-10-28 07:33:17.460204: W tensorflow/compiler/tf2tensorrt/utils/py_utils.cc:38] TF-TRT Warning: Could not find TensorRT\n"
     ]
    }
   ],
   "execution_count": 1
  },
  {
   "metadata": {
    "ExecuteTime": {
     "end_time": "2024-10-28T05:33:46.328061Z",
     "start_time": "2024-10-28T05:33:46.322268Z"
    }
   },
   "cell_type": "code",
   "source": [
    "\n",
    "# image directory\n",
    "image_dir = 'datasets/'\n",
    "\n",
    "# no tumor list\n",
    "\n",
    "dataset = []\n",
    "labels = []\n",
    "INPUT_SIZE = 64"
   ],
   "id": "2e7021e83556dbed",
   "outputs": [],
   "execution_count": 2
  },
  {
   "metadata": {
    "ExecuteTime": {
     "end_time": "2024-10-28T05:33:52.828601Z",
     "start_time": "2024-10-28T05:33:48.497616Z"
    }
   },
   "cell_type": "code",
   "source": [
    "# no tumor image list\n",
    "no_tumor = os.listdir(image_dir + 'no/')\n",
    "for i, image_name in enumerate(no_tumor):\n",
    "    if image_name.split('.')[1] == 'jpg':\n",
    "        # read the images using open cv\n",
    "        image = cv2.imread(image_dir + 'no/' + image_name)\n",
    "\n",
    "        # convert it to rgb using pillow\n",
    "        image = Image.fromarray(image, 'RGB')\n",
    "\n",
    "        # resize the image\n",
    "        image = image.resize((INPUT_SIZE, INPUT_SIZE))\n",
    "        # set the datasets as numpy arrays\n",
    "\n",
    "        dataset.append(np.array(image))\n",
    "\n",
    "        labels.append(0)"
   ],
   "id": "8173e4598aa137c7",
   "outputs": [],
   "execution_count": 3
  },
  {
   "metadata": {
    "ExecuteTime": {
     "end_time": "2024-10-28T05:34:07.504Z",
     "start_time": "2024-10-28T05:34:00.712184Z"
    }
   },
   "cell_type": "code",
   "source": [
    "\n",
    "# yes tumor list\n",
    "yes_tumor = os.listdir(image_dir + 'yes/')\n",
    "\n",
    "for i, image_name in enumerate(yes_tumor):\n",
    "    if image_name.split('.')[1] == 'jpg':\n",
    "        # read the images using open cv\n",
    "        image = cv2.imread(image_dir + 'yes/' + image_name)\n",
    "\n",
    "        # convert it to rgb using pillow\n",
    "        image = Image.fromarray(image, 'RGB')\n",
    "\n",
    "        # resize the image\n",
    "        image = image.resize((INPUT_SIZE, INPUT_SIZE))\n",
    "        # set the datasets as numpy arrays\n",
    "\n",
    "        dataset.append(np.array(image))\n",
    "\n",
    "        labels.append(1)\n",
    "        "
   ],
   "id": "767c7fb20d4a5d3f",
   "outputs": [],
   "execution_count": 4
  },
  {
   "metadata": {
    "ExecuteTime": {
     "end_time": "2024-10-28T05:34:18.627522Z",
     "start_time": "2024-10-28T05:34:18.548829Z"
    }
   },
   "cell_type": "code",
   "source": [
    "\n",
    "# convert the datasets and labels into a numpy array\n",
    "\n",
    "dataset = np.array(dataset)\n",
    "labels = np.array(labels)\n"
   ],
   "id": "f909fe4103d9024f",
   "outputs": [],
   "execution_count": 5
  },
  {
   "metadata": {
    "ExecuteTime": {
     "end_time": "2024-10-28T05:34:31.836495Z",
     "start_time": "2024-10-28T05:34:31.767452Z"
    }
   },
   "cell_type": "code",
   "source": [
    "\n",
    "# 20% data for testing\n",
    "x_train, x_test, y_train, y_test = train_test_split(dataset, labels, test_size=0.2)\n",
    "\n",
    "# reshape (no_of_images, image_width,image_height,no_of_channels)\n",
    "\n",
    "print(x_train.shape)\n",
    "print(y_train.shape)\n",
    "print(x_test.shape)\n",
    "print(y_test.shape)\n"
   ],
   "id": "c45e474e64f75f59",
   "outputs": [
    {
     "name": "stdout",
     "output_type": "stream",
     "text": [
      "(2400, 64, 64, 3)\n",
      "(2400,)\n",
      "(600, 64, 64, 3)\n",
      "(600,)\n"
     ]
    }
   ],
   "execution_count": 6
  },
  {
   "metadata": {
    "ExecuteTime": {
     "end_time": "2024-10-28T05:35:01.024981Z",
     "start_time": "2024-10-28T05:34:59.074324Z"
    }
   },
   "cell_type": "code",
   "source": [
    "x_train = normalize(x_train, axis=1)\n",
    "x_test = normalize(x_test, axis=1)\n",
    "y_train = to_categorical(y_train,num_classes=2)\n",
    "y_test = to_categorical(y_test,num_classes=2)"
   ],
   "id": "30b1caac0bc83c28",
   "outputs": [],
   "execution_count": 7
  },
  {
   "metadata": {
    "ExecuteTime": {
     "end_time": "2024-10-28T05:35:10.281176Z",
     "start_time": "2024-10-28T05:35:10.178305Z"
    }
   },
   "cell_type": "code",
   "source": [
    "model = Sequential()\n",
    "model.add(Conv2D(32, kernel_size=(3, 3), activation='relu', input_shape=(INPUT_SIZE, INPUT_SIZE, 3)))\n",
    "model.add(Activation('relu'))\n",
    "model.add(MaxPooling2D(pool_size=(2, 2)))"
   ],
   "id": "9c85ca5b1170c46a",
   "outputs": [
    {
     "name": "stderr",
     "output_type": "stream",
     "text": [
      "/home/kupamakunura/miniconda3/envs/brain-tumor/lib/python3.12/site-packages/keras/src/layers/convolutional/base_conv.py:107: UserWarning: Do not pass an `input_shape`/`input_dim` argument to a layer. When using Sequential models, prefer using an `Input(shape)` object as the first layer in the model instead.\n",
      "  super().__init__(activity_regularizer=activity_regularizer, **kwargs)\n"
     ]
    }
   ],
   "execution_count": 8
  },
  {
   "metadata": {
    "ExecuteTime": {
     "end_time": "2024-10-28T05:35:25.308908Z",
     "start_time": "2024-10-28T05:35:25.298418Z"
    }
   },
   "cell_type": "code",
   "source": [
    "model = Sequential()\n",
    "model.add(Conv2D(32, kernel_size=(3, 3), activation='relu', kernel_initializer='he_uniform'))\n",
    "model.add(Activation('relu'))\n",
    "model.add(MaxPooling2D(pool_size=(2, 2)))\n"
   ],
   "id": "51e461829845715a",
   "outputs": [],
   "execution_count": 9
  },
  {
   "metadata": {
    "ExecuteTime": {
     "end_time": "2024-10-28T05:35:35.031072Z",
     "start_time": "2024-10-28T05:35:35.017383Z"
    }
   },
   "cell_type": "code",
   "source": [
    "model = Sequential()\n",
    "model.add(Conv2D(64, kernel_size=(3, 3), activation='relu', kernel_initializer='he_uniform'))\n",
    "model.add(Activation('relu'))\n",
    "model.add(MaxPooling2D(pool_size=(2, 2)))\n",
    "\n"
   ],
   "id": "dfb2e1913b6fa161",
   "outputs": [],
   "execution_count": 10
  },
  {
   "metadata": {
    "ExecuteTime": {
     "end_time": "2024-10-28T05:35:50.864986Z",
     "start_time": "2024-10-28T05:35:50.848633Z"
    }
   },
   "cell_type": "code",
   "source": [
    "model.add(Flatten())\n",
    "model.add(Dense(64))\n",
    "model.add(Activation('relu'))\n",
    "model.add(Dropout(0.5))\n",
    "model.add(Dense(2))\n",
    "model.add(Activation('softmax'))"
   ],
   "id": "be1227852325291b",
   "outputs": [],
   "execution_count": 11
  },
  {
   "metadata": {
    "ExecuteTime": {
     "end_time": "2024-10-28T05:36:18.496818Z",
     "start_time": "2024-10-28T05:36:18.472516Z"
    }
   },
   "cell_type": "code",
   "source": "model.compile(loss='categorical_crossentropy', optimizer='adam', metrics=['accuracy'])\n",
   "id": "4c612526c9adba07",
   "outputs": [],
   "execution_count": 12
  },
  {
   "metadata": {
    "ExecuteTime": {
     "end_time": "2024-10-28T05:42:18.149377Z",
     "start_time": "2024-10-28T05:36:53.390450Z"
    }
   },
   "cell_type": "code",
   "source": [
    "model.fit(x_train, y_train, epochs=10, batch_size=16, verbose=1, validation_data=(x_test, y_test), shuffle=False)\n",
    "model.save('sequential-model.h5')"
   ],
   "id": "b637035c4829dc63",
   "outputs": [
    {
     "name": "stdout",
     "output_type": "stream",
     "text": [
      "Epoch 1/10\n"
     ]
    },
    {
     "name": "stderr",
     "output_type": "stream",
     "text": [
      "2024-10-28 07:36:53.713912: W external/local_tsl/tsl/framework/cpu_allocator_impl.cc:83] Allocation of 117964800 exceeds 10% of free system memory.\n"
     ]
    },
    {
     "name": "stdout",
     "output_type": "stream",
     "text": [
      "\u001B[1m150/150\u001B[0m \u001B[32m━━━━━━━━━━━━━━━━━━━━\u001B[0m\u001B[37m\u001B[0m \u001B[1m24s\u001B[0m 147ms/step - accuracy: 0.6922 - loss: 0.7265 - val_accuracy: 0.8400 - val_loss: 0.3760\n",
      "Epoch 2/10\n",
      "\u001B[1m150/150\u001B[0m \u001B[32m━━━━━━━━━━━━━━━━━━━━\u001B[0m\u001B[37m\u001B[0m \u001B[1m50s\u001B[0m 209ms/step - accuracy: 0.8153 - loss: 0.4004 - val_accuracy: 0.8817 - val_loss: 0.3255\n",
      "Epoch 3/10\n",
      "\u001B[1m150/150\u001B[0m \u001B[32m━━━━━━━━━━━━━━━━━━━━\u001B[0m\u001B[37m\u001B[0m \u001B[1m32s\u001B[0m 213ms/step - accuracy: 0.8880 - loss: 0.2800 - val_accuracy: 0.9250 - val_loss: 0.2011\n",
      "Epoch 4/10\n",
      "\u001B[1m150/150\u001B[0m \u001B[32m━━━━━━━━━━━━━━━━━━━━\u001B[0m\u001B[37m\u001B[0m \u001B[1m24s\u001B[0m 100ms/step - accuracy: 0.9229 - loss: 0.1995 - val_accuracy: 0.9500 - val_loss: 0.1589\n",
      "Epoch 5/10\n",
      "\u001B[1m150/150\u001B[0m \u001B[32m━━━━━━━━━━━━━━━━━━━━\u001B[0m\u001B[37m\u001B[0m \u001B[1m28s\u001B[0m 153ms/step - accuracy: 0.9445 - loss: 0.1476 - val_accuracy: 0.9717 - val_loss: 0.1232\n",
      "Epoch 6/10\n",
      "\u001B[1m150/150\u001B[0m \u001B[32m━━━━━━━━━━━━━━━━━━━━\u001B[0m\u001B[37m\u001B[0m \u001B[1m47s\u001B[0m 193ms/step - accuracy: 0.9416 - loss: 0.1177 - val_accuracy: 0.9717 - val_loss: 0.1206\n",
      "Epoch 7/10\n",
      "\u001B[1m150/150\u001B[0m \u001B[32m━━━━━━━━━━━━━━━━━━━━\u001B[0m\u001B[37m\u001B[0m \u001B[1m21s\u001B[0m 142ms/step - accuracy: 0.9577 - loss: 0.1061 - val_accuracy: 0.9700 - val_loss: 0.1293\n",
      "Epoch 8/10\n",
      "\u001B[1m150/150\u001B[0m \u001B[32m━━━━━━━━━━━━━━━━━━━━\u001B[0m\u001B[37m\u001B[0m \u001B[1m49s\u001B[0m 197ms/step - accuracy: 0.9613 - loss: 0.0889 - val_accuracy: 0.9750 - val_loss: 0.1389\n",
      "Epoch 9/10\n",
      "\u001B[1m150/150\u001B[0m \u001B[32m━━━━━━━━━━━━━━━━━━━━\u001B[0m\u001B[37m\u001B[0m \u001B[1m28s\u001B[0m 113ms/step - accuracy: 0.9621 - loss: 0.1054 - val_accuracy: 0.9767 - val_loss: 0.1101\n",
      "Epoch 10/10\n",
      "\u001B[1m150/150\u001B[0m \u001B[32m━━━━━━━━━━━━━━━━━━━━\u001B[0m\u001B[37m\u001B[0m \u001B[1m19s\u001B[0m 103ms/step - accuracy: 0.9697 - loss: 0.0611 - val_accuracy: 0.9683 - val_loss: 0.1425\n"
     ]
    },
    {
     "name": "stderr",
     "output_type": "stream",
     "text": [
      "WARNING:absl:You are saving your model as an HDF5 file via `model.save()` or `keras.saving.save_model(model)`. This file format is considered legacy. We recommend using instead the native Keras format, e.g. `model.save('my_model.keras')` or `keras.saving.save_model(model, 'my_model.keras')`. \n"
     ]
    }
   ],
   "execution_count": 13
  },
  {
   "metadata": {},
   "cell_type": "code",
   "outputs": [],
   "execution_count": null,
   "source": "",
   "id": "86aea87f111d63f8"
  }
 ],
 "metadata": {
  "kernelspec": {
   "display_name": "Python 3",
   "language": "python",
   "name": "python3"
  },
  "language_info": {
   "codemirror_mode": {
    "name": "ipython",
    "version": 2
   },
   "file_extension": ".py",
   "mimetype": "text/x-python",
   "name": "python",
   "nbconvert_exporter": "python",
   "pygments_lexer": "ipython2",
   "version": "2.7.6"
  }
 },
 "nbformat": 4,
 "nbformat_minor": 5
}
